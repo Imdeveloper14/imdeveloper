{
 "cells": [
  {
   "cell_type": "code",
   "execution_count": 2,
   "metadata": {},
   "outputs": [
    {
     "name": "stdout",
     "output_type": "stream",
     "text": [
      "1\n"
     ]
    }
   ],
   "source": [
    "print('1')"
   ]
  },
  {
   "cell_type": "code",
   "execution_count": 8,
   "metadata": {},
   "outputs": [
    {
     "name": "stdout",
     "output_type": "stream",
     "text": [
      "try again\n"
     ]
    }
   ],
   "source": [
    "#if else condition \n",
    "i = int(input('enter i value:'))\n",
    "\n",
    "if i==100:\n",
    "    print(i)\n",
    "    print('good')\n",
    "else:\n",
    "    print('try again')"
   ]
  },
  {
   "cell_type": "code",
   "execution_count": 10,
   "metadata": {},
   "outputs": [
    {
     "ename": "IndentationError",
     "evalue": "expected an indented block after 'if' statement on line 6 (742668978.py, line 7)",
     "output_type": "error",
     "traceback": [
      "\u001b[1;36m  Cell \u001b[1;32mIn[10], line 7\u001b[1;36m\u001b[0m\n\u001b[1;33m    print('access granted')\u001b[0m\n\u001b[1;37m    ^\u001b[0m\n\u001b[1;31mIndentationError\u001b[0m\u001b[1;31m:\u001b[0m expected an indented block after 'if' statement on line 6\n"
     ]
    }
   ],
   "source": [
    "card = input()\n",
    "balance=10000\n",
    "if card=='card':\n",
    "    print('valid card')\n",
    "    pin= input('enter the pin')\n",
    "    if pin==\"1111\":\n",
    "    print('access granted')\n",
    "    amt= int(input())\n",
    "    if amout<=10000:\n",
    "        print('collect the cash')\n",
    "        balance=10000-amt\n",
    "        print('remaining balance=', balance)\n",
    "        print('THANK YOU,VISIT AGAIN')\n",
    "    else:\n",
    "        print('low balance')\n",
    "    else:\n",
    "        print('access denied')\n",
    "else:\n",
    "    print('invalid card')"
   ]
  },
  {
   "cell_type": "code",
   "execution_count": 23,
   "metadata": {},
   "outputs": [
    {
     "name": "stdout",
     "output_type": "stream",
     "text": [
      "PASS\n"
     ]
    }
   ],
   "source": [
    "mark=int(input('enter the mark : '))\n",
    "if mark<=0 and mark<=34:\n",
    "    print('fAIL')\n",
    "elif mark<=35 and mark<=59:\n",
    "    print('PASS')\n",
    "elif mark<=60 and mark<=79:\n",
    "    print('FIRST CLASS')\n",
    "elif mark<=80 and mark==100:\n",
    "    print('DISTINSTION')\n",
    "else:\n",
    "    print('invalid')"
   ]
  },
  {
   "cell_type": "code",
   "execution_count": 25,
   "metadata": {},
   "outputs": [
    {
     "name": "stdout",
     "output_type": "stream",
     "text": [
      "alpha is the key\n",
      "beta is the key\n",
      "gamma is the key\n"
     ]
    }
   ],
   "source": [
    "for x in [\"alpha\",\"beta\",\"gamma\"]:\n",
    "    print(x,\"is the key\")"
   ]
  },
  {
   "cell_type": "code",
   "execution_count": 13,
   "metadata": {},
   "outputs": [],
   "source": [
    "for i in range(int(input()),1,1):\n",
    "    print(i)"
   ]
  },
  {
   "cell_type": "code",
   "execution_count": 8,
   "metadata": {},
   "outputs": [
    {
     "name": "stdout",
     "output_type": "stream",
     "text": [
      "10\n",
      "9\n",
      "8\n",
      "7\n",
      "6\n",
      "5\n",
      "4\n",
      "3\n",
      "2\n",
      "1\n"
     ]
    }
   ],
   "source": [
    "for g in range(int(input()),0,-1):\n",
    "    print(g)"
   ]
  },
  {
   "cell_type": "code",
   "execution_count": 29,
   "metadata": {},
   "outputs": [
    {
     "name": "stdout",
     "output_type": "stream",
     "text": [
      "100\n",
      "98\n",
      "96\n",
      "94\n",
      "92\n",
      "90\n",
      "88\n",
      "86\n",
      "84\n",
      "82\n",
      "80\n",
      "78\n",
      "76\n",
      "74\n",
      "72\n",
      "70\n",
      "68\n",
      "66\n",
      "64\n",
      "62\n",
      "60\n",
      "58\n",
      "56\n",
      "54\n",
      "52\n",
      "50\n",
      "48\n",
      "46\n",
      "44\n",
      "42\n",
      "40\n",
      "38\n",
      "36\n",
      "34\n",
      "32\n",
      "30\n",
      "28\n",
      "26\n",
      "24\n",
      "22\n",
      "20\n",
      "18\n",
      "16\n",
      "14\n",
      "12\n",
      "10\n",
      "8\n",
      "6\n",
      "4\n",
      "2\n"
     ]
    }
   ],
   "source": [
    "for i in range(100,0,-2):\n",
    "    print(i)"
   ]
  },
  {
   "cell_type": "code",
   "execution_count": 11,
   "metadata": {},
   "outputs": [
    {
     "name": "stdout",
     "output_type": "stream",
     "text": [
      "12.57\n"
     ]
    }
   ],
   "source": [
    "radius = int(input())\n",
    "circumference = round(2*22/7*radius, 2)\n",
    "print(circumference)"
   ]
  },
  {
   "cell_type": "code",
   "execution_count": 13,
   "metadata": {},
   "outputs": [
    {
     "name": "stdout",
     "output_type": "stream",
     "text": [
      "53.6\n"
     ]
    }
   ],
   "source": [
    "celcius = int(input())\n",
    "farenheit = round(celcius*9/5+32, 2)\n",
    "print(farenheit)"
   ]
  },
  {
   "cell_type": "code",
   "execution_count": 24,
   "metadata": {},
   "outputs": [
    {
     "name": "stdout",
     "output_type": "stream",
     "text": [
      "Error\n"
     ]
    }
   ],
   "source": [
    "N = int(input())\n",
    "if N<0:\n",
    "    print(\"Error\")\n",
    "elif N==0:\n",
    "    print(0)\n",
    "else:\n",
    "    Nth=N**2\n",
    "    print(Nth)"
   ]
  },
  {
   "cell_type": "code",
   "execution_count": 32,
   "metadata": {},
   "outputs": [
    {
     "name": "stdout",
     "output_type": "stream",
     "text": [
      "1\n",
      "3\n"
     ]
    }
   ],
   "source": [
    "num=int(input())\n",
    "factorial=1\n",
    "if num<0:\n",
    "    print(\"error\")\n",
    "elif num==0:\n",
    "    print(1)\n",
    "else:\n",
    "    for i in (1,num+1):\n",
    "        factorial=i*1\n",
    "        print(factorial) #guvi codekata wrong "
   ]
  },
  {
   "cell_type": "code",
   "execution_count": 33,
   "metadata": {},
   "outputs": [
    {
     "name": "stdout",
     "output_type": "stream",
     "text": [
      "2.0\n"
     ]
    }
   ],
   "source": [
    "A = int(input())\n",
    "B = int(input())\n",
    "C = float(round(A+B,1))\n",
    "print(C)"
   ]
  },
  {
   "cell_type": "code",
   "execution_count": 36,
   "metadata": {},
   "outputs": [
    {
     "name": "stdout",
     "output_type": "stream",
     "text": [
      "3\n",
      "3\n",
      "3\n"
     ]
    }
   ],
   "source": [
    "N = int(input())\n",
    "if N==0:\n",
    "    print(\"NULL\")\n",
    "elif N<0:\n",
    "    print(\"error\")\n",
    "else:\n",
    "    for i in(0,10000,9):\n",
    "        i = N\n",
    "        print(i)\n",
    "        "
   ]
  },
  {
   "cell_type": "code",
   "execution_count": null,
   "metadata": {},
   "outputs": [],
   "source": [
    "ou are given two numbers. Your task is to multiply the two numbers and print the answer.\n",
    "\n",
    "Input Description:\n",
    "You are given two numbers ‘n’ and ‘m’.\n",
    "\n",
    "Output Description:\n",
    "Print the multiplied answer\n",
    "\n",
    "Sample Input :\n",
    "99999 99998\n",
    "Sample Output :\n",
    "9999700002n,m=map(int(input().split())\n",
    "o=n*m \n",
    "print(o)"
   ]
  },
  {
   "cell_type": "code",
   "execution_count": 4,
   "metadata": {},
   "outputs": [
    {
     "name": "stdout",
     "output_type": "stream",
     "text": [
      "0 in range\n",
      "1 in range\n",
      "2 in range\n",
      "3 in range\n",
      "4 in range\n"
     ]
    }
   ],
   "source": [
    "#break in for loop\n",
    "for guvi in range(10):\n",
    "    if guvi ==5:\n",
    "        break\n",
    "    print(guvi,\"in range\")"
   ]
  },
  {
   "cell_type": "code",
   "execution_count": 5,
   "metadata": {},
   "outputs": [
    {
     "name": "stdout",
     "output_type": "stream",
     "text": [
      "0 in range\n",
      "1 in range\n",
      "2 in range\n",
      "3 in range\n",
      "4 in range\n",
      "6 in range\n",
      "7 in range\n",
      "8 in range\n",
      "9 in range\n"
     ]
    }
   ],
   "source": [
    "#continue in for loop\n",
    "for guvi in range(10):\n",
    "    if guvi ==5:\n",
    "        continue\n",
    "    print(guvi,\"in range\")"
   ]
  },
  {
   "cell_type": "code",
   "execution_count": 6,
   "metadata": {},
   "outputs": [
    {
     "name": "stdout",
     "output_type": "stream",
     "text": [
      "0 in range\n",
      "1 in range\n",
      "2 in range\n",
      "3 in range\n",
      "4 in range\n",
      "5 in range\n",
      "6 in range\n",
      "7 in range\n",
      "8 in range\n",
      "9 in range\n"
     ]
    }
   ],
   "source": [
    "#pass in for loop\n",
    "for guvi in range(10):\n",
    "    if guvi ==5:\n",
    "        pass\n",
    "    print(guvi,\"in range\")"
   ]
  },
  {
   "cell_type": "code",
   "execution_count": 7,
   "metadata": {},
   "outputs": [
    {
     "name": "stdout",
     "output_type": "stream",
     "text": [
      "ahaan\n",
      "ahaan\n",
      "ahaan\n",
      "ahaan\n",
      "ahaan\n"
     ]
    }
   ],
   "source": [
    "#while loop\n",
    "a=0\n",
    "while a<5:\n",
    "    print(\"ahaan\")\n",
    "    a=a+1"
   ]
  },
  {
   "cell_type": "code",
   "execution_count": 8,
   "metadata": {},
   "outputs": [
    {
     "name": "stdout",
     "output_type": "stream",
     "text": [
      "ahaan\n",
      "1\n",
      "2\n",
      "3\n",
      "4\n",
      "ahaan\n",
      "ahaan\n",
      "ahaan\n",
      "ahaan\n"
     ]
    }
   ],
   "source": [
    "#nested while loop\n",
    "a=0\n",
    "b=1\n",
    "while a<5:\n",
    "    print(\"ahaan\")\n",
    "    a=a+1\n",
    "    while b<5:\n",
    "        print(b)\n",
    "        b=b+1"
   ]
  },
  {
   "cell_type": "code",
   "execution_count": 11,
   "metadata": {},
   "outputs": [
    {
     "name": "stdout",
     "output_type": "stream",
     "text": [
      "ahaan\n",
      "0 ada ada\n",
      "1 ada ada\n",
      "2 ada ada\n",
      "3 ada ada\n",
      "4 ada ada\n",
      "5 ada ada\n",
      "6 ada ada\n",
      "7 ada ada\n",
      "8 ada ada\n",
      "9 ada ada\n",
      "ahaan\n",
      "0 ada ada\n",
      "1 ada ada\n",
      "2 ada ada\n",
      "3 ada ada\n",
      "4 ada ada\n",
      "5 ada ada\n",
      "6 ada ada\n",
      "7 ada ada\n",
      "8 ada ada\n",
      "9 ada ada\n",
      "ahaan\n",
      "0 ada ada\n",
      "1 ada ada\n",
      "2 ada ada\n",
      "3 ada ada\n",
      "4 ada ada\n",
      "5 ada ada\n",
      "6 ada ada\n",
      "7 ada ada\n",
      "8 ada ada\n",
      "9 ada ada\n",
      "ahaan\n",
      "0 ada ada\n",
      "1 ada ada\n",
      "2 ada ada\n",
      "3 ada ada\n",
      "4 ada ada\n",
      "5 ada ada\n",
      "6 ada ada\n",
      "7 ada ada\n",
      "8 ada ada\n",
      "9 ada ada\n",
      "ahaan\n",
      "0 ada ada\n",
      "1 ada ada\n",
      "2 ada ada\n",
      "3 ada ada\n",
      "4 ada ada\n",
      "5 ada ada\n",
      "6 ada ada\n",
      "7 ada ada\n",
      "8 ada ada\n",
      "9 ada ada\n"
     ]
    }
   ],
   "source": [
    "\n",
    "a=0\n",
    "b=1\n",
    "while a<5:\n",
    "    print(\"ahaan\")\n",
    "    a=a+1\n",
    "    for i in range(10):\n",
    "        print(i,\"ada ada\")"
   ]
  },
  {
   "cell_type": "code",
   "execution_count": 16,
   "metadata": {},
   "outputs": [
    {
     "name": "stdout",
     "output_type": "stream",
     "text": [
      "[1, 5, 10, 15, 20, 25, 30, 35]\n",
      "[2, 4, 6, 8, 10, 12, 14, 16, 18, 20]\n",
      "25\n",
      "[10, 15, 20, 25]\n",
      "[5, 10, 15, 20, 25, 30] [20, 18, 16, 14, 12, 10, 8, 6, 4, 2]\n",
      "[2, 6, 10, 14]\n"
     ]
    }
   ],
   "source": [
    "# data type - list\n",
    "a=[1,5,10,15,20,25,30,35]\n",
    "b=[2,4,6,8,10,12,14,16,18,20]\n",
    "print(a)\n",
    "print(b)\n",
    "print(a[5])\n",
    "print(a[2:6])\n",
    "print(a[1:7],b[::-1])\n",
    "print(b[0:7:2])"
   ]
  },
  {
   "cell_type": "code",
   "execution_count": 20,
   "metadata": {},
   "outputs": [
    {
     "name": "stdout",
     "output_type": "stream",
     "text": [
      "Requirement already satisfied: taipy in c:\\users\\chand\\appdata\\local\\programs\\python\\python312\\lib\\site-packages (3.1.0)Note: you may need to restart the kernel to use updated packages.\n",
      "\n",
      "Requirement already satisfied: cookiecutter<=2.5.0,>=2.1.1 in c:\\users\\chand\\appdata\\local\\programs\\python\\python312\\lib\\site-packages (from taipy) (2.5.0)\n",
      "Requirement already satisfied: taipy-gui==3.1.0 in c:\\users\\chand\\appdata\\local\\programs\\python\\python312\\lib\\site-packages (from taipy) (3.1.0)\n",
      "Requirement already satisfied: taipy-rest==3.1.0 in c:\\users\\chand\\appdata\\local\\programs\\python\\python312\\lib\\site-packages (from taipy) (3.1.0)\n",
      "Requirement already satisfied: taipy-templates==3.1.0 in c:\\users\\chand\\appdata\\local\\programs\\python\\python312\\lib\\site-packages (from taipy) (3.1.0)\n",
      "Requirement already satisfied: flask<=3.0.2,>=3.0.0 in c:\\users\\chand\\appdata\\local\\programs\\python\\python312\\lib\\site-packages (from taipy-gui==3.1.0->taipy) (3.0.2)\n",
      "Requirement already satisfied: flask-cors<=4.0.0,>=4.0.0 in c:\\users\\chand\\appdata\\local\\programs\\python\\python312\\lib\\site-packages (from taipy-gui==3.1.0->taipy) (4.0.0)\n",
      "Requirement already satisfied: flask-socketio<=5.3.6,>=5.3.6 in c:\\users\\chand\\appdata\\local\\programs\\python\\python312\\lib\\site-packages (from taipy-gui==3.1.0->taipy) (5.3.6)\n",
      "Requirement already satisfied: gevent<=23.9.1,>=23.7.0 in c:\\users\\chand\\appdata\\local\\programs\\python\\python312\\lib\\site-packages (from taipy-gui==3.1.0->taipy) (23.9.1)\n",
      "Requirement already satisfied: gevent-websocket<=0.10.1,>=0.10.1 in c:\\users\\chand\\appdata\\local\\programs\\python\\python312\\lib\\site-packages (from taipy-gui==3.1.0->taipy) (0.10.1)\n",
      "Requirement already satisfied: gitignore-parser<=0.1.11,>=0.1 in c:\\users\\chand\\appdata\\local\\programs\\python\\python312\\lib\\site-packages (from taipy-gui==3.1.0->taipy) (0.1.11)\n",
      "Requirement already satisfied: kthread<=0.2.3,>=0.2.3 in c:\\users\\chand\\appdata\\local\\programs\\python\\python312\\lib\\site-packages (from taipy-gui==3.1.0->taipy) (0.2.3)\n",
      "Requirement already satisfied: markdown<=3.5.2,>=3.4.4 in c:\\users\\chand\\appdata\\local\\programs\\python\\python312\\lib\\site-packages (from taipy-gui==3.1.0->taipy) (3.5.2)\n",
      "Requirement already satisfied: pandas<=2.2.0,>=1.3.5 in c:\\users\\chand\\appdata\\local\\programs\\python\\python312\\lib\\site-packages (from taipy-gui==3.1.0->taipy) (2.2.0)\n",
      "Requirement already satisfied: python-dotenv<=1.0.1,>=1.0.0 in c:\\users\\chand\\appdata\\local\\programs\\python\\python312\\lib\\site-packages (from taipy-gui==3.1.0->taipy) (1.0.1)\n",
      "Requirement already satisfied: pytz<=2023.3.post1,>=2021.3 in c:\\users\\chand\\appdata\\local\\programs\\python\\python312\\lib\\site-packages (from taipy-gui==3.1.0->taipy) (2023.3.post1)\n",
      "Requirement already satisfied: simple-websocket<=1.0.0,>=0.10.1 in c:\\users\\chand\\appdata\\local\\programs\\python\\python312\\lib\\site-packages (from taipy-gui==3.1.0->taipy) (1.0.0)\n",
      "Requirement already satisfied: taipy-config==3.1.0 in c:\\users\\chand\\appdata\\local\\programs\\python\\python312\\lib\\site-packages (from taipy-gui==3.1.0->taipy) (3.1.0)\n",
      "Requirement already satisfied: twisted<=23.10.0,>=23.8.0 in c:\\users\\chand\\appdata\\local\\programs\\python\\python312\\lib\\site-packages (from taipy-gui==3.1.0->taipy) (23.10.0)\n",
      "Requirement already satisfied: tzlocal<=5.2,>=3.0 in c:\\users\\chand\\appdata\\local\\programs\\python\\python312\\lib\\site-packages (from taipy-gui==3.1.0->taipy) (5.2)\n",
      "Requirement already satisfied: apispec<=6.4.0,>=6.3 in c:\\users\\chand\\appdata\\local\\programs\\python\\python312\\lib\\site-packages (from apispec[yaml]<=6.4.0,>=6.3->taipy-rest==3.1.0->taipy) (6.4.0)\n",
      "Requirement already satisfied: apispec-webframeworks<=1.0.0,>=0.5.2 in c:\\users\\chand\\appdata\\local\\programs\\python\\python312\\lib\\site-packages (from taipy-rest==3.1.0->taipy) (1.0.0)\n",
      "Requirement already satisfied: flask-restful<=0.3.10,>=0.3.9 in c:\\users\\chand\\appdata\\local\\programs\\python\\python312\\lib\\site-packages (from taipy-rest==3.1.0->taipy) (0.3.10)\n",
      "Requirement already satisfied: marshmallow<=3.20.2,>=3.20.1 in c:\\users\\chand\\appdata\\local\\programs\\python\\python312\\lib\\site-packages (from taipy-rest==3.1.0->taipy) (3.20.2)\n",
      "Requirement already satisfied: passlib<=1.7.4,>=1.7.4 in c:\\users\\chand\\appdata\\local\\programs\\python\\python312\\lib\\site-packages (from taipy-rest==3.1.0->taipy) (1.7.4)\n",
      "Requirement already satisfied: taipy-core==3.1.0 in c:\\users\\chand\\appdata\\local\\programs\\python\\python312\\lib\\site-packages (from taipy-rest==3.1.0->taipy) (3.1.0)\n",
      "Requirement already satisfied: deepdiff<=6.7.1,>=6.2.2 in c:\\users\\chand\\appdata\\local\\programs\\python\\python312\\lib\\site-packages (from taipy-config==3.1.0->taipy-gui==3.1.0->taipy) (6.7.1)\n",
      "Requirement already satisfied: toml<=0.10.2,>=0.10 in c:\\users\\chand\\appdata\\local\\programs\\python\\python312\\lib\\site-packages (from taipy-config==3.1.0->taipy-gui==3.1.0->taipy) (0.10.2)\n",
      "Requirement already satisfied: boto3<=1.34.34,>=1.29.4 in c:\\users\\chand\\appdata\\local\\programs\\python\\python312\\lib\\site-packages (from taipy-core==3.1.0->taipy-rest==3.1.0->taipy) (1.34.34)\n",
      "Requirement already satisfied: networkx<=3.2.1,>=2.6 in c:\\users\\chand\\appdata\\local\\programs\\python\\python312\\lib\\site-packages (from taipy-core==3.1.0->taipy-rest==3.1.0->taipy) (3.2.1)\n",
      "Requirement already satisfied: openpyxl<=3.1.2,>=3.1.2 in c:\\users\\chand\\appdata\\local\\programs\\python\\python312\\lib\\site-packages (from taipy-core==3.1.0->taipy-rest==3.1.0->taipy) (3.1.2)\n",
      "Requirement already satisfied: pyarrow<=15.0.0,>=14.0.2 in c:\\users\\chand\\appdata\\local\\programs\\python\\python312\\lib\\site-packages (from taipy-core==3.1.0->taipy-rest==3.1.0->taipy) (15.0.0)\n",
      "Requirement already satisfied: pymongo<=4.6.1,>=4.2.0 in c:\\users\\chand\\appdata\\local\\programs\\python\\python312\\lib\\site-packages (from pymongo[srv]<=4.6.1,>=4.2.0->taipy-core==3.1.0->taipy-rest==3.1.0->taipy) (4.6.1)\n",
      "Requirement already satisfied: sqlalchemy<=2.0.25,>=2.0.16 in c:\\users\\chand\\appdata\\local\\programs\\python\\python312\\lib\\site-packages (from taipy-core==3.1.0->taipy-rest==3.1.0->taipy) (2.0.25)\n",
      "Requirement already satisfied: binaryornot>=0.4.4 in c:\\users\\chand\\appdata\\local\\programs\\python\\python312\\lib\\site-packages (from cookiecutter<=2.5.0,>=2.1.1->taipy) (0.4.4)\n",
      "Requirement already satisfied: Jinja2<4.0.0,>=2.7 in c:\\users\\chand\\appdata\\local\\programs\\python\\python312\\lib\\site-packages (from cookiecutter<=2.5.0,>=2.1.1->taipy) (3.1.3)\n",
      "Requirement already satisfied: click<9.0.0,>=7.0 in c:\\users\\chand\\appdata\\local\\programs\\python\\python312\\lib\\site-packages (from cookiecutter<=2.5.0,>=2.1.1->taipy) (8.1.7)\n",
      "Requirement already satisfied: pyyaml>=5.3.1 in c:\\users\\chand\\appdata\\local\\programs\\python\\python312\\lib\\site-packages (from cookiecutter<=2.5.0,>=2.1.1->taipy) (6.0.1)\n",
      "Requirement already satisfied: python-slugify>=4.0.0 in c:\\users\\chand\\appdata\\local\\programs\\python\\python312\\lib\\site-packages (from cookiecutter<=2.5.0,>=2.1.1->taipy) (8.0.4)\n",
      "Requirement already satisfied: requests>=2.23.0 in c:\\users\\chand\\appdata\\local\\programs\\python\\python312\\lib\\site-packages (from cookiecutter<=2.5.0,>=2.1.1->taipy) (2.31.0)\n",
      "Requirement already satisfied: arrow in c:\\users\\chand\\appdata\\local\\programs\\python\\python312\\lib\\site-packages (from cookiecutter<=2.5.0,>=2.1.1->taipy) (1.3.0)\n",
      "Requirement already satisfied: rich in c:\\users\\chand\\appdata\\local\\programs\\python\\python312\\lib\\site-packages (from cookiecutter<=2.5.0,>=2.1.1->taipy) (13.7.1)\n",
      "Requirement already satisfied: packaging>=21.3 in c:\\users\\chand\\appdata\\roaming\\python\\python312\\site-packages (from apispec<=6.4.0,>=6.3->apispec[yaml]<=6.4.0,>=6.3->taipy-rest==3.1.0->taipy) (23.2)\n",
      "Requirement already satisfied: chardet>=3.0.2 in c:\\users\\chand\\appdata\\local\\programs\\python\\python312\\lib\\site-packages (from binaryornot>=0.4.4->cookiecutter<=2.5.0,>=2.1.1->taipy) (5.2.0)\n",
      "Requirement already satisfied: colorama in c:\\users\\chand\\appdata\\roaming\\python\\python312\\site-packages (from click<9.0.0,>=7.0->cookiecutter<=2.5.0,>=2.1.1->taipy) (0.4.6)\n",
      "Requirement already satisfied: Werkzeug>=3.0.0 in c:\\users\\chand\\appdata\\local\\programs\\python\\python312\\lib\\site-packages (from flask<=3.0.2,>=3.0.0->taipy-gui==3.1.0->taipy) (3.0.1)\n",
      "Requirement already satisfied: itsdangerous>=2.1.2 in c:\\users\\chand\\appdata\\local\\programs\\python\\python312\\lib\\site-packages (from flask<=3.0.2,>=3.0.0->taipy-gui==3.1.0->taipy) (2.1.2)\n",
      "Requirement already satisfied: blinker>=1.6.2 in c:\\users\\chand\\appdata\\local\\programs\\python\\python312\\lib\\site-packages (from flask<=3.0.2,>=3.0.0->taipy-gui==3.1.0->taipy) (1.7.0)\n",
      "Requirement already satisfied: aniso8601>=0.82 in c:\\users\\chand\\appdata\\local\\programs\\python\\python312\\lib\\site-packages (from flask-restful<=0.3.10,>=0.3.9->taipy-rest==3.1.0->taipy) (9.0.1)\n",
      "Requirement already satisfied: six>=1.3.0 in c:\\users\\chand\\appdata\\roaming\\python\\python312\\site-packages (from flask-restful<=0.3.10,>=0.3.9->taipy-rest==3.1.0->taipy) (1.16.0)\n",
      "Requirement already satisfied: python-socketio>=5.0.2 in c:\\users\\chand\\appdata\\local\\programs\\python\\python312\\lib\\site-packages (from flask-socketio<=5.3.6,>=5.3.6->taipy-gui==3.1.0->taipy) (5.11.1)\n",
      "Requirement already satisfied: zope.event in c:\\users\\chand\\appdata\\local\\programs\\python\\python312\\lib\\site-packages (from gevent<=23.9.1,>=23.7.0->taipy-gui==3.1.0->taipy) (5.0)\n",
      "Requirement already satisfied: zope.interface in c:\\users\\chand\\appdata\\local\\programs\\python\\python312\\lib\\site-packages (from gevent<=23.9.1,>=23.7.0->taipy-gui==3.1.0->taipy) (6.2)\n",
      "Requirement already satisfied: greenlet>=3.0rc3 in c:\\users\\chand\\appdata\\local\\programs\\python\\python312\\lib\\site-packages (from gevent<=23.9.1,>=23.7.0->taipy-gui==3.1.0->taipy) (3.0.3)\n",
      "Requirement already satisfied: cffi>=1.12.2 in c:\\users\\chand\\appdata\\local\\programs\\python\\python312\\lib\\site-packages (from gevent<=23.9.1,>=23.7.0->taipy-gui==3.1.0->taipy) (1.16.0)\n",
      "Requirement already satisfied: MarkupSafe>=2.0 in c:\\users\\chand\\appdata\\local\\programs\\python\\python312\\lib\\site-packages (from Jinja2<4.0.0,>=2.7->cookiecutter<=2.5.0,>=2.1.1->taipy) (2.1.5)\n",
      "Requirement already satisfied: numpy<2,>=1.26.0 in c:\\users\\chand\\appdata\\local\\programs\\python\\python312\\lib\\site-packages (from pandas<=2.2.0,>=1.3.5->taipy-gui==3.1.0->taipy) (1.26.4)\n",
      "Requirement already satisfied: python-dateutil>=2.8.2 in c:\\users\\chand\\appdata\\roaming\\python\\python312\\site-packages (from pandas<=2.2.0,>=1.3.5->taipy-gui==3.1.0->taipy) (2.9.0.post0)\n",
      "Requirement already satisfied: tzdata>=2022.7 in c:\\users\\chand\\appdata\\local\\programs\\python\\python312\\lib\\site-packages (from pandas<=2.2.0,>=1.3.5->taipy-gui==3.1.0->taipy) (2024.1)\n",
      "Requirement already satisfied: text-unidecode>=1.3 in c:\\users\\chand\\appdata\\local\\programs\\python\\python312\\lib\\site-packages (from python-slugify>=4.0.0->cookiecutter<=2.5.0,>=2.1.1->taipy) (1.3)\n",
      "Requirement already satisfied: charset-normalizer<4,>=2 in c:\\users\\chand\\appdata\\local\\programs\\python\\python312\\lib\\site-packages (from requests>=2.23.0->cookiecutter<=2.5.0,>=2.1.1->taipy) (3.3.2)\n",
      "Requirement already satisfied: idna<4,>=2.5 in c:\\users\\chand\\appdata\\local\\programs\\python\\python312\\lib\\site-packages (from requests>=2.23.0->cookiecutter<=2.5.0,>=2.1.1->taipy) (3.6)\n",
      "Requirement already satisfied: urllib3<3,>=1.21.1 in c:\\users\\chand\\appdata\\local\\programs\\python\\python312\\lib\\site-packages (from requests>=2.23.0->cookiecutter<=2.5.0,>=2.1.1->taipy) (2.0.7)\n",
      "Requirement already satisfied: certifi>=2017.4.17 in c:\\users\\chand\\appdata\\local\\programs\\python\\python312\\lib\\site-packages (from requests>=2.23.0->cookiecutter<=2.5.0,>=2.1.1->taipy) (2024.2.2)\n",
      "Requirement already satisfied: wsproto in c:\\users\\chand\\appdata\\local\\programs\\python\\python312\\lib\\site-packages (from simple-websocket<=1.0.0,>=0.10.1->taipy-gui==3.1.0->taipy) (1.2.0)\n",
      "Requirement already satisfied: attrs>=21.3.0 in c:\\users\\chand\\appdata\\local\\programs\\python\\python312\\lib\\site-packages (from twisted<=23.10.0,>=23.8.0->taipy-gui==3.1.0->taipy) (23.2.0)\n",
      "Requirement already satisfied: automat>=0.8.0 in c:\\users\\chand\\appdata\\local\\programs\\python\\python312\\lib\\site-packages (from twisted<=23.10.0,>=23.8.0->taipy-gui==3.1.0->taipy) (22.10.0)\n",
      "Requirement already satisfied: constantly>=15.1 in c:\\users\\chand\\appdata\\local\\programs\\python\\python312\\lib\\site-packages (from twisted<=23.10.0,>=23.8.0->taipy-gui==3.1.0->taipy) (23.10.4)\n",
      "Requirement already satisfied: hyperlink>=17.1.1 in c:\\users\\chand\\appdata\\local\\programs\\python\\python312\\lib\\site-packages (from twisted<=23.10.0,>=23.8.0->taipy-gui==3.1.0->taipy) (21.0.0)\n",
      "Requirement already satisfied: incremental>=22.10.0 in c:\\users\\chand\\appdata\\local\\programs\\python\\python312\\lib\\site-packages (from twisted<=23.10.0,>=23.8.0->taipy-gui==3.1.0->taipy) (22.10.0)\n",
      "Requirement already satisfied: twisted-iocpsupport<2,>=1.0.2 in c:\\users\\chand\\appdata\\local\\programs\\python\\python312\\lib\\site-packages (from twisted<=23.10.0,>=23.8.0->taipy-gui==3.1.0->taipy) (1.0.4)\n",
      "Requirement already satisfied: typing-extensions>=4.2.0 in c:\\users\\chand\\appdata\\local\\programs\\python\\python312\\lib\\site-packages (from twisted<=23.10.0,>=23.8.0->taipy-gui==3.1.0->taipy) (4.10.0)\n",
      "Requirement already satisfied: types-python-dateutil>=2.8.10 in c:\\users\\chand\\appdata\\local\\programs\\python\\python312\\lib\\site-packages (from arrow->cookiecutter<=2.5.0,>=2.1.1->taipy) (2.8.19.20240106)\n",
      "Requirement already satisfied: markdown-it-py>=2.2.0 in c:\\users\\chand\\appdata\\local\\programs\\python\\python312\\lib\\site-packages (from rich->cookiecutter<=2.5.0,>=2.1.1->taipy) (3.0.0)\n",
      "Requirement already satisfied: pygments<3.0.0,>=2.13.0 in c:\\users\\chand\\appdata\\roaming\\python\\python312\\site-packages (from rich->cookiecutter<=2.5.0,>=2.1.1->taipy) (2.17.2)\n",
      "Requirement already satisfied: botocore<1.35.0,>=1.34.34 in c:\\users\\chand\\appdata\\local\\programs\\python\\python312\\lib\\site-packages (from boto3<=1.34.34,>=1.29.4->taipy-core==3.1.0->taipy-rest==3.1.0->taipy) (1.34.57)\n",
      "Requirement already satisfied: jmespath<2.0.0,>=0.7.1 in c:\\users\\chand\\appdata\\local\\programs\\python\\python312\\lib\\site-packages (from boto3<=1.34.34,>=1.29.4->taipy-core==3.1.0->taipy-rest==3.1.0->taipy) (1.0.1)\n",
      "Requirement already satisfied: s3transfer<0.11.0,>=0.10.0 in c:\\users\\chand\\appdata\\local\\programs\\python\\python312\\lib\\site-packages (from boto3<=1.34.34,>=1.29.4->taipy-core==3.1.0->taipy-rest==3.1.0->taipy) (0.10.0)\n",
      "Requirement already satisfied: pycparser in c:\\users\\chand\\appdata\\local\\programs\\python\\python312\\lib\\site-packages (from cffi>=1.12.2->gevent<=23.9.1,>=23.7.0->taipy-gui==3.1.0->taipy) (2.21)\n",
      "Requirement already satisfied: ordered-set<4.2.0,>=4.0.2 in c:\\users\\chand\\appdata\\local\\programs\\python\\python312\\lib\\site-packages (from deepdiff<=6.7.1,>=6.2.2->taipy-config==3.1.0->taipy-gui==3.1.0->taipy) (4.1.0)\n",
      "Requirement already satisfied: mdurl~=0.1 in c:\\users\\chand\\appdata\\local\\programs\\python\\python312\\lib\\site-packages (from markdown-it-py>=2.2.0->rich->cookiecutter<=2.5.0,>=2.1.1->taipy) (0.1.2)\n",
      "Requirement already satisfied: et-xmlfile in c:\\users\\chand\\appdata\\local\\programs\\python\\python312\\lib\\site-packages (from openpyxl<=3.1.2,>=3.1.2->taipy-core==3.1.0->taipy-rest==3.1.0->taipy) (1.1.0)\n",
      "Requirement already satisfied: dnspython<3.0.0,>=1.16.0 in c:\\users\\chand\\appdata\\local\\programs\\python\\python312\\lib\\site-packages (from pymongo<=4.6.1,>=4.2.0->pymongo[srv]<=4.6.1,>=4.2.0->taipy-core==3.1.0->taipy-rest==3.1.0->taipy) (2.6.1)\n",
      "Requirement already satisfied: bidict>=0.21.0 in c:\\users\\chand\\appdata\\local\\programs\\python\\python312\\lib\\site-packages (from python-socketio>=5.0.2->flask-socketio<=5.3.6,>=5.3.6->taipy-gui==3.1.0->taipy) (0.23.1)\n",
      "Requirement already satisfied: python-engineio>=4.8.0 in c:\\users\\chand\\appdata\\local\\programs\\python\\python312\\lib\\site-packages (from python-socketio>=5.0.2->flask-socketio<=5.3.6,>=5.3.6->taipy-gui==3.1.0->taipy) (4.9.0)\n",
      "Requirement already satisfied: setuptools in c:\\users\\chand\\appdata\\local\\programs\\python\\python312\\lib\\site-packages (from zope.interface->gevent<=23.9.1,>=23.7.0->taipy-gui==3.1.0->taipy) (69.1.1)\n",
      "Requirement already satisfied: h11<1,>=0.9.0 in c:\\users\\chand\\appdata\\local\\programs\\python\\python312\\lib\\site-packages (from wsproto->simple-websocket<=1.0.0,>=0.10.1->taipy-gui==3.1.0->taipy) (0.14.0)\n"
     ]
    }
   ],
   "source": [
    "%pip install taipy"
   ]
  },
  {
   "cell_type": "code",
   "execution_count": 21,
   "metadata": {},
   "outputs": [],
   "source": [
    "import taipy\n"
   ]
  },
  {
   "cell_type": "code",
   "execution_count": 2,
   "metadata": {},
   "outputs": [
    {
     "name": "stdout",
     "output_type": "stream",
     "text": [
      "['atta', 'wheat']\n"
     ]
    }
   ],
   "source": [
    "a=[\"atta\",\"wheat\",\"rice\",\"flour\"]\n",
    "b=[]\n",
    "for x in a:\n",
    "    if \"a\" in x:\n",
    "        b.append(x)\n",
    "print(b)"
   ]
  },
  {
   "cell_type": "code",
   "execution_count": 2,
   "metadata": {},
   "outputs": [
    {
     "name": "stdout",
     "output_type": "stream",
     "text": [
      "['atta', 'wheat', 'rice', 'flour', 'corn']\n"
     ]
    }
   ],
   "source": [
    "#adding elements in list\n",
    "a=[\"atta\",\"wheat\",\"rice\",\"flour\"]\n",
    "a.append(\"corn\")\n",
    "print(a)"
   ]
  },
  {
   "cell_type": "code",
   "execution_count": 3,
   "metadata": {},
   "outputs": [
    {
     "name": "stdout",
     "output_type": "stream",
     "text": [
      "['atta', 'wheat', 'apple', 'rice', 'flour']\n"
     ]
    }
   ],
   "source": [
    "#insert syntx in list\n",
    "a=[\"atta\",\"wheat\",\"rice\",\"flour\"]\n",
    "a.insert(2,\"apple\")\n",
    "print(a)"
   ]
  },
  {
   "cell_type": "code",
   "execution_count": 4,
   "metadata": {},
   "outputs": [
    {
     "name": "stdout",
     "output_type": "stream",
     "text": [
      "['atta', 'tomato', 'rice', 'flour']\n"
     ]
    }
   ],
   "source": [
    "#replacing in list\n",
    "a=[\"atta\",\"wheat\",\"rice\",\"flour\"]\n",
    "a[1]=\"tomato\"\n",
    "print(a)"
   ]
  },
  {
   "cell_type": "code",
   "execution_count": 5,
   "metadata": {},
   "outputs": [
    {
     "name": "stdout",
     "output_type": "stream",
     "text": [
      "['atta', 'rice', 'flour']\n"
     ]
    }
   ],
   "source": [
    "a=[\"atta\",\"wheat\",\"rice\",\"flour\"]\n",
    "del a[1]\n",
    "print(a)"
   ]
  },
  {
   "cell_type": "code",
   "execution_count": 11,
   "metadata": {},
   "outputs": [
    {
     "name": "stdout",
     "output_type": "stream",
     "text": [
      "[134331, 13134, 334, 331, 212, 56, 33, 12, 4, 3, 2, 1, 0]\n"
     ]
    }
   ],
   "source": [
    "b = [1,3,2,12,4,56,33,331,13134,134331,212,0,334]\n",
    "b.sort()\n",
    "b.sort(reverse =True)\n",
    "print(b)"
   ]
  },
  {
   "cell_type": "code",
   "execution_count": 16,
   "metadata": {},
   "outputs": [
    {
     "name": "stdout",
     "output_type": "stream",
     "text": [
      "148453\n",
      "134331\n",
      "0\n"
     ]
    }
   ],
   "source": [
    "print(sum(b))\n",
    "print(max(b))\n",
    "print(min(b))"
   ]
  },
  {
   "cell_type": "code",
   "execution_count": 21,
   "metadata": {},
   "outputs": [
    {
     "name": "stdout",
     "output_type": "stream",
     "text": [
      "2\n",
      "3\n",
      "1\n"
     ]
    }
   ],
   "source": [
    "c,d,f=(1,3,2)\n",
    "print(f)\n",
    "print(d)\n",
    "print(c)"
   ]
  },
  {
   "cell_type": "code",
   "execution_count": 25,
   "metadata": {},
   "outputs": [
    {
     "ename": "TypeError",
     "evalue": "'builtin_function_or_method' object is not subscriptable",
     "output_type": "error",
     "traceback": [
      "\u001b[1;31m---------------------------------------------------------------------------\u001b[0m",
      "\u001b[1;31mTypeError\u001b[0m                                 Traceback (most recent call last)",
      "Cell \u001b[1;32mIn[25], line 3\u001b[0m\n\u001b[0;32m      1\u001b[0m z\u001b[38;5;241m=\u001b[39m(\u001b[38;5;241m1\u001b[39m,\u001b[38;5;241m3\u001b[39m,\u001b[38;5;241m4\u001b[39m,\u001b[38;5;241m2\u001b[39m,\u001b[38;5;241m3\u001b[39m,\u001b[38;5;241m1\u001b[39m,\u001b[38;5;241m3\u001b[39m,\u001b[38;5;241m1\u001b[39m,\u001b[38;5;241m3\u001b[39m,\u001b[38;5;241m1\u001b[39m)\n\u001b[0;32m      2\u001b[0m z[\u001b[38;5;241m3\u001b[39m]\n\u001b[1;32m----> 3\u001b[0m \u001b[43mz\u001b[49m\u001b[38;5;241;43m.\u001b[39;49m\u001b[43mindex\u001b[49m\u001b[43m[\u001b[49m\u001b[38;5;241;43m3\u001b[39;49m\u001b[43m]\u001b[49m\n\u001b[0;32m      4\u001b[0m \u001b[38;5;28mprint\u001b[39m(z)\n",
      "\u001b[1;31mTypeError\u001b[0m: 'builtin_function_or_method' object is not subscriptable"
     ]
    }
   ],
   "source": [
    "z=(1,3,4,2,3,1,3,1,3,1)\n",
    "    z[3]\n",
    "    z.index[3]\n",
    "print(z)"
   ]
  },
  {
   "cell_type": "code",
   "execution_count": 8,
   "metadata": {},
   "outputs": [
    {
     "name": "stdout",
     "output_type": "stream",
     "text": [
      "False\n",
      "True\n",
      "True\n",
      "False\n",
      "True\n",
      "True\n",
      "False\n"
     ]
    }
   ],
   "source": [
    "a='123'\n",
    "b='12atta'\n",
    "c='queen'\n",
    "d='   '\n",
    "print(c.isnumeric()) #verify whether numeric or not\n",
    "print(c.isalnum())\n",
    "print(c.isalpha()) #verify whether alphet or not\n",
    "print(c.isspace()) #verify whether there is space or not\n",
    "print(d.isspace())\n",
    "print(c.startswith('q')) # we can verfiy startig  \n",
    "print(b.endswith('1')) #we can verfiy ending"
   ]
  },
  {
   "cell_type": "code",
   "execution_count": 21,
   "metadata": {},
   "outputs": [
    {
     "name": "stdout",
     "output_type": "stream",
     "text": [
      "alex waters\n"
     ]
    },
    {
     "ename": "AttributeError",
     "evalue": "'int' object has no attribute 'isnumeric'",
     "output_type": "error",
     "traceback": [
      "\u001b[1;31m---------------------------------------------------------------------------\u001b[0m",
      "\u001b[1;31mAttributeError\u001b[0m                            Traceback (most recent call last)",
      "Cell \u001b[1;32mIn[21], line 9\u001b[0m\n\u001b[0;32m      6\u001b[0m \u001b[38;5;28;01melse\u001b[39;00m:\n\u001b[0;32m      7\u001b[0m     \u001b[38;5;28mprint\u001b[39m(\u001b[38;5;124m\"\u001b[39m\u001b[38;5;124minvaled input\u001b[39m\u001b[38;5;124m\"\u001b[39m)\n\u001b[1;32m----> 9\u001b[0m \u001b[38;5;28;01mif\u001b[39;00m \u001b[43mphoneno\u001b[49m\u001b[38;5;241;43m.\u001b[39;49m\u001b[43misnumeric\u001b[49m() \u001b[38;5;129;01mand\u001b[39;00m phoneno\u001b[38;5;241m.\u001b[39mstartswith(\u001b[38;5;124m'\u001b[39m\u001b[38;5;124m9\u001b[39m\u001b[38;5;124m'\u001b[39m) \u001b[38;5;129;01mand\u001b[39;00m \u001b[38;5;28mlen\u001b[39m(phoneno)\u001b[38;5;241m==\u001b[39m\u001b[38;5;241m10\u001b[39m:\n\u001b[0;32m     10\u001b[0m     \u001b[38;5;28mprint\u001b[39m(\u001b[38;5;124m'\u001b[39m\u001b[38;5;124mvalid phone number\u001b[39m\u001b[38;5;124m'\u001b[39m)\n\u001b[0;32m     11\u001b[0m \u001b[38;5;28;01melse\u001b[39;00m:\n",
      "\u001b[1;31mAttributeError\u001b[0m: 'int' object has no attribute 'isnumeric'"
     ]
    }
   ],
   "source": [
    "firstname = input('first name')\n",
    "lastname = input('last name')\n",
    "phoneno = int(input(\"phone no\"))\n",
    "if firstname.isalpha() and lastname.isalpha():\n",
    "    print(firstname,lastname)\n",
    "else:\n",
    "    print(\"invaled input\")\n",
    "\n",
    "if phoneno.isnumeric() and phoneno.startswith('9') and len(phoneno)==10:\n",
    "    print('valid phone number')\n",
    "else:\n",
    "    print('invaled phone number')\n"
   ]
  },
  {
   "cell_type": "code",
   "execution_count": 4,
   "metadata": {},
   "outputs": [
    {
     "name": "stdout",
     "output_type": "stream",
     "text": [
      "['alpha', 'ray', 'is', 'not', 'an', 'actual', 'ray']\n",
      "['  ', 'lph', ' r', 'y is not ', 'n ', 'ctu', 'l r', 'y']\n",
      "alpha ray is not an actual ray\n",
      "amma ray is sensible\n"
     ]
    }
   ],
   "source": [
    "a = \"  alpha ray is not an actual ray\"\n",
    "b = \"gamma ray is sensible\"\n",
    "print(a.split())\n",
    "print(a.split('a')) #it'll act on space and elements gives us in list format\n",
    "print(a.strip()) # it'll act on only corners like removing spaces and elements etc.,\n",
    "print(b.strip('g'))"
   ]
  },
  {
   "cell_type": "code",
   "execution_count": 2,
   "metadata": {},
   "outputs": [
    {
     "name": "stdout",
     "output_type": "stream",
     "text": [
      "['123']\n"
     ]
    }
   ],
   "source": [
    "a = input()\n",
    "b = a.split(\"+\")\n",
    "print(b)"
   ]
  },
  {
   "cell_type": "code",
   "execution_count": 5,
   "metadata": {},
   "outputs": [
    {
     "ename": "TypeError",
     "evalue": "must be str, not builtin_function_or_method",
     "output_type": "error",
     "traceback": [
      "\u001b[1;31m---------------------------------------------------------------------------\u001b[0m",
      "\u001b[1;31mTypeError\u001b[0m                                 Traceback (most recent call last)",
      "Cell \u001b[1;32mIn[5], line 2\u001b[0m\n\u001b[0;32m      1\u001b[0m a \u001b[38;5;241m=\u001b[39m \u001b[38;5;28minput\u001b[39m()\n\u001b[1;32m----> 2\u001b[0m \u001b[38;5;28mprint\u001b[39m(\u001b[43ma\u001b[49m\u001b[38;5;241;43m.\u001b[39;49m\u001b[43mcount\u001b[49m\u001b[43m(\u001b[49m\u001b[38;5;28;43mid\u001b[39;49m\u001b[43m)\u001b[49m)\n",
      "\u001b[1;31mTypeError\u001b[0m: must be str, not builtin_function_or_method"
     ]
    }
   ],
   "source": [
    "a = input()\n",
    "print(a.count(id))"
   ]
  },
  {
   "cell_type": "code",
   "execution_count": 5,
   "metadata": {},
   "outputs": [
    {
     "ename": "TypeError",
     "evalue": "range expected at least 1 argument, got 0",
     "output_type": "error",
     "traceback": [
      "\u001b[1;31m---------------------------------------------------------------------------\u001b[0m",
      "\u001b[1;31mTypeError\u001b[0m                                 Traceback (most recent call last)",
      "Cell \u001b[1;32mIn[5], line 3\u001b[0m\n\u001b[0;32m      1\u001b[0m N \u001b[38;5;241m=\u001b[39m \u001b[38;5;28mint\u001b[39m(\u001b[38;5;28minput\u001b[39m())\n\u001b[0;32m      2\u001b[0m i \u001b[38;5;241m=\u001b[39m N\n\u001b[1;32m----> 3\u001b[0m \u001b[38;5;28;01mfor\u001b[39;00m i \u001b[38;5;129;01min\u001b[39;00m \u001b[38;5;28;43mrange\u001b[39;49m\u001b[43m(\u001b[49m\u001b[43m)\u001b[49m:\n\u001b[0;32m      4\u001b[0m     \u001b[38;5;28mprint\u001b[39m(i)\n",
      "\u001b[1;31mTypeError\u001b[0m: range expected at least 1 argument, got 0"
     ]
    }
   ],
   "source": [
    "N = int(input())\n",
    "i = N\n",
    "for i in range():\n",
    "    print(i)"
   ]
  },
  {
   "cell_type": "code",
   "execution_count": 1,
   "metadata": {},
   "outputs": [
    {
     "name": "stdout",
     "output_type": "stream",
     "text": [
      "{1, 2, 3, 1123, 10, 11, 20, 30, 345, 222}\n"
     ]
    }
   ],
   "source": [
    "a = {20,30,10,3,2,1,222,11,1123,345} #set is unordered  \n",
    "print(a)"
   ]
  },
  {
   "cell_type": "code",
   "execution_count": 6,
   "metadata": {},
   "outputs": [
    {
     "name": "stdout",
     "output_type": "stream",
     "text": [
      "{'name': 'chan', 'star': 'pieces', 'hobbies': ['gym', 'listen ti music', 'tech enthu']}\n",
      "chan\n",
      "{'name': 'chan', 'star': 'pieces', 'hobbies': ['gym', 'listen ti music', 'tech enthu'], 'phone': 1220}\n",
      "{'name': 'chan', 'hobbies': ['gym', 'listen ti music', 'tech enthu'], 'phone': 1220}\n"
     ]
    }
   ],
   "source": [
    "a = {\"name\":\"chan\",\"star\":\"pieces\",\"hobbies\":[\"gym\",\"listen ti music\",\"tech enthu\"]}\n",
    "print(a)\n",
    "print(a[\"name\"])\n",
    "a[\"phone\"]=1220\n",
    "print(a)\n",
    "del a[\"star\"]\n",
    "print(a)"
   ]
  },
  {
   "cell_type": "code",
   "execution_count": 8,
   "metadata": {},
   "outputs": [
    {
     "name": "stdout",
     "output_type": "stream",
     "text": [
      "dict_keys(['name', 'star', 'hobbies'])\n",
      "dict_values(['chan', 'pieces', ['gym', 'listen ti music', 'tech enthu']])\n",
      "dict_items([('name', 'chan'), ('star', 'pieces'), ('hobbies', ['gym', 'listen ti music', 'tech enthu'])])\n"
     ]
    }
   ],
   "source": [
    "a = {\"name\":\"chan\",\"star\":\"pieces\",\"hobbies\":[\"gym\",\"listen ti music\",\"tech enthu\"]}\n",
    "print(a.keys())#dictionary we retrive only keys \n",
    "print(a.values())\n",
    "print(a.items())"
   ]
  },
  {
   "cell_type": "code",
   "execution_count": 12,
   "metadata": {},
   "outputs": [],
   "source": [
    "def hello():\n",
    "    print(\"how are you\")\n",
    "    return \"yepp cool\""
   ]
  },
  {
   "cell_type": "code",
   "execution_count": 13,
   "metadata": {},
   "outputs": [
    {
     "name": "stdout",
     "output_type": "stream",
     "text": [
      "how are you\n"
     ]
    },
    {
     "data": {
      "text/plain": [
       "'yepp cool'"
      ]
     },
     "execution_count": 13,
     "metadata": {},
     "output_type": "execute_result"
    }
   ],
   "source": [
    "hello()"
   ]
  },
  {
   "cell_type": "code",
   "execution_count": 17,
   "metadata": {},
   "outputs": [
    {
     "name": "stdout",
     "output_type": "stream",
     "text": [
      "OTHA is length of 4\n"
     ]
    }
   ],
   "source": [
    "def a(x):\n",
    "    y=x.upper()\n",
    "    z=len(x)\n",
    "\n",
    "    return y+\" is length of \" +str(z)\n",
    "u=a(input())\n",
    "print(u)"
   ]
  },
  {
   "cell_type": "code",
   "execution_count": 23,
   "metadata": {},
   "outputs": [
    {
     "name": "stdout",
     "output_type": "stream",
     "text": [
      "akingisvirat\n"
     ]
    }
   ],
   "source": [
    "# Method 2: Using str.join() and str.split()\n",
    "my_string = input()\n",
    "my_string = \"\".join(my_string.split())\n",
    "print(my_string)\n"
   ]
  },
  {
   "cell_type": "code",
   "execution_count": 26,
   "metadata": {},
   "outputs": [
    {
     "name": "stdout",
     "output_type": "stream",
     "text": [
      "323453\n"
     ]
    }
   ],
   "source": [
    "my_string = input()\n",
    "my_string = \" \".join(my_string.split())\n",
    "print(my_string)"
   ]
  },
  {
   "cell_type": "code",
   "execution_count": 34,
   "metadata": {},
   "outputs": [],
   "source": [
    "N = int(input())\n",
    "i=0\n",
    "for i in range(N,0):\n",
    "    i+=N\n",
    "    break\n",
    "    print(i)"
   ]
  },
  {
   "cell_type": "code",
   "execution_count": 1,
   "metadata": {},
   "outputs": [
    {
     "data": {
      "text/plain": [
       "7"
      ]
     },
     "execution_count": 1,
     "metadata": {},
     "output_type": "execute_result"
    }
   ],
   "source": [
    "3^4"
   ]
  },
  {
   "cell_type": "code",
   "execution_count": null,
   "metadata": {},
   "outputs": [],
   "source": []
  }
 ],
 "metadata": {
  "kernelspec": {
   "display_name": "Python 3",
   "language": "python",
   "name": "python3"
  },
  "language_info": {
   "codemirror_mode": {
    "name": "ipython",
    "version": 3
   },
   "file_extension": ".py",
   "mimetype": "text/x-python",
   "name": "python",
   "nbconvert_exporter": "python",
   "pygments_lexer": "ipython3",
   "version": "3.12.2"
  }
 },
 "nbformat": 4,
 "nbformat_minor": 2
}
